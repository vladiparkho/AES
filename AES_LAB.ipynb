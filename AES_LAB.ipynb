{
 "cells": [
  {
   "cell_type": "markdown",
   "metadata": {},
   "source": [
    "Advanced Encryption Standard"
   ]
  },
  {
   "cell_type": "code",
   "execution_count": 203,
   "metadata": {},
   "outputs": [],
   "source": [
    "sbox = [\n",
    "\t0x63, 0x7C, 0x77, 0x7B, 0xF2, 0x6B, 0x6F, 0xC5, 0x30, 0x01, 0x67, 0x2B, 0xFE, 0xD7, 0xAB, 0x76,\n",
    "\t0xCA, 0x82, 0xC9, 0x7D, 0xFA, 0x59, 0x47, 0xF0, 0xAD, 0xD4, 0xA2, 0xAF, 0x9C, 0xA4, 0x72, 0xC0,\n",
    "\t0xB7, 0xFD, 0x93, 0x26, 0x36, 0x3F, 0xF7, 0xCC, 0x34, 0xA5, 0xE5, 0xF1, 0x71, 0xD8, 0x31, 0x15,\n",
    "\t0x04, 0xC7, 0x23, 0xC3, 0x18, 0x96, 0x05, 0x9A, 0x07, 0x12, 0x80, 0xE2, 0xEB, 0x27, 0xB2, 0x75,\n",
    "\t0x09, 0x83, 0x2C, 0x1A, 0x1B, 0x6E, 0x5A, 0xA0, 0x52, 0x3B, 0xD6, 0xB3, 0x29, 0xE3, 0x2F, 0x84,\n",
    "\t0x53, 0xD1, 0x00, 0xED, 0x20, 0xFC, 0xB1, 0x5B, 0x6A, 0xCB, 0xBE, 0x39, 0x4A, 0x4C, 0x58, 0xCF,\n",
    "\t0xD0, 0xEF, 0xAA, 0xFB, 0x43, 0x4D, 0x33, 0x85, 0x45, 0xF9, 0x02, 0x7F, 0x50, 0x3C, 0x9F, 0xA8,\n",
    "\t0x51, 0xA3, 0x40, 0x8F, 0x92, 0x9D, 0x38, 0xF5, 0xBC, 0xB6, 0xDA, 0x21, 0x10, 0xFF, 0xF3, 0xD2,\n",
    "\t0xCD, 0x0C, 0x13, 0xEC, 0x5F, 0x97, 0x44, 0x17, 0xC4, 0xA7, 0x7E, 0x3D, 0x64, 0x5D, 0x19, 0x73,\n",
    "\t0x60, 0x81, 0x4F, 0xDC, 0x22, 0x2A, 0x90, 0x88, 0x46, 0xEE, 0xB8, 0x14, 0xDE, 0x5E, 0x0B, 0xDB,\n",
    "\t0xE0, 0x32, 0x3A, 0x0A, 0x49, 0x06, 0x24, 0x5C, 0xC2, 0xD3, 0xAC, 0x62, 0x91, 0x95, 0xE4, 0x79,\n",
    "\t0xE7, 0xC8, 0x37, 0x6D, 0x8D, 0xD5, 0x4E, 0xA9, 0x6C, 0x56, 0xF4, 0xEA, 0x65, 0x7A, 0xAE, 0x08,\n",
    "\t0xBA, 0x78, 0x25, 0x2E, 0x1C, 0xA6, 0xB4, 0xC6, 0xE8, 0xDD, 0x74, 0x1F, 0x4B, 0xBD, 0x8B, 0x8A,\n",
    "\t0x70, 0x3E, 0xB5, 0x66, 0x48, 0x03, 0xF6, 0x0E, 0x61, 0x35, 0x57, 0xB9, 0x86, 0xC1, 0x1D, 0x9E,\n",
    "\t0xE1, 0xF8, 0x98, 0x11, 0x69, 0xD9, 0x8E, 0x94, 0x9B, 0x1E, 0x87, 0xE9, 0xCE, 0x55, 0x28, 0xDF,\n",
    "\t0x8C, 0xA1, 0x89, 0x0D, 0xBF, 0xE6, 0x42, 0x68, 0x41, 0x99, 0x2D, 0x0F, 0xB0, 0x54, 0xBB, 0x16,\n",
    "]\n",
    "\n",
    "invSbox = [\n",
    "\t0x52, 0x09, 0x6A, 0xD5, 0x30, 0x36, 0xA5, 0x38, 0xBF, 0x40, 0xA3, 0x9E, 0x81, 0xF3, 0xD7, 0xFB,\n",
    "\t0x7C, 0xE3, 0x39, 0x82, 0x9B, 0x2F, 0xFF, 0x87, 0x34, 0x8E, 0x43, 0x44, 0xC4, 0xDE, 0xE9, 0xCB,\n",
    "\t0x54, 0x7B, 0x94, 0x32, 0xA6, 0xC2, 0x23, 0x3D, 0xEE, 0x4C, 0x95, 0x0B, 0x42, 0xFA, 0xC3, 0x4E,\n",
    "\t0x08, 0x2E, 0xA1, 0x66, 0x28, 0xD9, 0x24, 0xB2, 0x76, 0x5B, 0xA2, 0x49, 0x6D, 0x8B, 0xD1, 0x25,\n",
    "\t0x72, 0xF8, 0xF6, 0x64, 0x86, 0x68, 0x98, 0x16, 0xD4, 0xA4, 0x5C, 0xCC, 0x5D, 0x65, 0xB6, 0x92,\n",
    "\t0x6C, 0x70, 0x48, 0x50, 0xFD, 0xED, 0xB9, 0xDA, 0x5E, 0x15, 0x46, 0x57, 0xA7, 0x8D, 0x9D, 0x84,\n",
    "\t0x90, 0xD8, 0xAB, 0x00, 0x8C, 0xBC, 0xD3, 0x0A, 0xF7, 0xE4, 0x58, 0x05, 0xB8, 0xB3, 0x45, 0x06,\n",
    "\t0xD0, 0x2C, 0x1E, 0x8F, 0xCA, 0x3F, 0x0F, 0x02, 0xC1, 0xAF, 0xBD, 0x03, 0x01, 0x13, 0x8A, 0x6B,\n",
    "\t0x3A, 0x91, 0x11, 0x41, 0x4F, 0x67, 0xDC, 0xEA, 0x97, 0xF2, 0xCF, 0xCE, 0xF0, 0xB4, 0xE6, 0x73,\n",
    "\t0x96, 0xAC, 0x74, 0x22, 0xE7, 0xAD, 0x35, 0x85, 0xE2, 0xF9, 0x37, 0xE8, 0x1C, 0x75, 0xDF, 0x6E,\n",
    "\t0x47, 0xF1, 0x1A, 0x71, 0x1D, 0x29, 0xC5, 0x89, 0x6F, 0xB7, 0x62, 0x0E, 0xAA, 0x18, 0xBE, 0x1B,\n",
    "\t0xFC, 0x56, 0x3E, 0x4B, 0xC6, 0xD2, 0x79, 0x20, 0x9A, 0xDB, 0xC0, 0xFE, 0x78, 0xCD, 0x5A, 0xF4,\n",
    "\t0x1F, 0xDD, 0xA8, 0x33, 0x88, 0x07, 0xC7, 0x31, 0xB1, 0x12, 0x10, 0x59, 0x27, 0x80, 0xEC, 0x5F,\n",
    "\t0x60, 0x51, 0x7F, 0xA9, 0x19, 0xB5, 0x4A, 0x0D, 0x2D, 0xE5, 0x7A, 0x9F, 0x93, 0xC9, 0x9C, 0xEF,\n",
    "\t0xA0, 0xE0, 0x3B, 0x4D, 0xAE, 0x2A, 0xF5, 0xB0, 0xC8, 0xEB, 0xBB, 0x3C, 0x83, 0x53, 0x99, 0x61,\n",
    "\t0x17, 0x2B, 0x04, 0x7E, 0xBA, 0x77, 0xD6, 0x26, 0xE1, 0x69, 0x14, 0x63, 0x55, 0x21, 0x0C, 0x7D,\n",
    "]\n",
    "rCon = [\n",
    "    0x00, 0x01, 0x02, 0x04, 0x08, 0x10, 0x20, 0x40,\n",
    "    0x80, 0x1B, 0x36, 0x6C, 0xD8, 0xAB, 0x4D, 0x9A,\n",
    "    0x2F, 0x5E, 0xBC, 0x63, 0xC6, 0x97, 0x35, 0x6A,\n",
    "    0xD4, 0xB3, 0x7D, 0xFA, 0xEF, 0xC5, 0x91, 0x39,\n",
    "]"
   ]
  },
  {
   "cell_type": "code",
   "execution_count": 3,
   "metadata": {},
   "outputs": [],
   "source": [
    "def addRoundKey(key,state):\n",
    "    for i in range(4):\n",
    "        for j in range(4):\n",
    "            state[i][j] ^= key[i][j]"
   ]
  },
  {
   "cell_type": "code",
   "execution_count": 229,
   "metadata": {},
   "outputs": [],
   "source": [
    "def keyExpansion(key,nOfRounds):\n",
    "    keys = initState(key)\n",
    "    nk = len(key)//4\n",
    "    i = 1\n",
    "    while len(keys) < (nOfRounds+1)*4:\n",
    "        word = list(keys[-1])\n",
    "        \n",
    "        if len(keys)% nk == 0:\n",
    "            word.append(word.pop(0))\n",
    "            word = [sbox[it] for it in word]\n",
    "            word[0] ^= rCon[i]\n",
    "            i += 1\n",
    "            \n",
    "        elif len(key) == 32 and len(keys) % nk == 4:\n",
    "                word = [sbox[it] for it in word]\n",
    "        \n",
    "        word = xorArrs(word, keys[-nk])\n",
    "        keys.append(word)\n",
    "        \n",
    "    \n",
    "    return [keys[4*i : 4*(i+1)] for i in range(len(keys) // 4)]     "
   ]
  },
  {
   "cell_type": "code",
   "execution_count": 47,
   "metadata": {},
   "outputs": [],
   "source": [
    "def subBytes(state):\n",
    "    for i in range(4):\n",
    "        for j in range(4):\n",
    "            state[i][j] = sbox[state[i][j]]"
   ]
  },
  {
   "cell_type": "code",
   "execution_count": 48,
   "metadata": {},
   "outputs": [],
   "source": [
    "def invSubBytes(state):\n",
    "     for i in range(4):\n",
    "        for j in range(4):\n",
    "            state[i][j] = invSbox[state[i][j]]"
   ]
  },
  {
   "cell_type": "code",
   "execution_count": 49,
   "metadata": {},
   "outputs": [],
   "source": [
    "def shiftRows(s):\n",
    "    s[0][1], s[1][1], s[2][1], s[3][1] = s[1][1], s[2][1], s[3][1], s[0][1]\n",
    "    s[0][2], s[1][2], s[2][2], s[3][2] = s[2][2], s[3][2], s[0][2], s[1][2]\n",
    "    s[0][3], s[1][3], s[2][3], s[3][3] = s[3][3], s[0][3], s[1][3], s[2][3]"
   ]
  },
  {
   "cell_type": "code",
   "execution_count": 50,
   "metadata": {},
   "outputs": [],
   "source": [
    "def invShiftRows(s):\n",
    "    s[0][1], s[1][1], s[2][1], s[3][1] = s[3][1], s[0][1], s[1][1], s[2][1]\n",
    "    s[0][2], s[1][2], s[2][2], s[3][2] = s[2][2], s[3][2], s[0][2], s[1][2]\n",
    "    s[0][3], s[1][3], s[2][3], s[3][3] = s[1][3], s[2][3], s[3][3], s[0][3]"
   ]
  },
  {
   "cell_type": "code",
   "execution_count": 51,
   "metadata": {},
   "outputs": [],
   "source": [
    "def mixColumns(state):\n",
    "    for i in range(4):\n",
    "        mixOnecolumn(state[i])"
   ]
  },
  {
   "cell_type": "code",
   "execution_count": 52,
   "metadata": {},
   "outputs": [],
   "source": [
    "def invMixColumns(state):\n",
    "    for i in range(4):\n",
    "        fst = xtime(xtime(state[i][0] ^ state[i][2]))\n",
    "        sec = xtime(xtime(state[i][1] ^ state[i][3]))\n",
    "        state[i][0] ^= fst\n",
    "        state[i][1] ^= sec\n",
    "        state[i][2] ^= fst\n",
    "        state[i][3] ^= sec\n",
    "\n",
    "    mixColumns(state)"
   ]
  },
  {
   "cell_type": "code",
   "execution_count": 53,
   "metadata": {},
   "outputs": [],
   "source": [
    "xtime = lambda a: (((a << 1) ^ 0x1B) & 0xFF) if (a & 0x80) else (a << 1)"
   ]
  },
  {
   "cell_type": "code",
   "execution_count": 54,
   "metadata": {},
   "outputs": [],
   "source": [
    "def xorArrs(arr1, arr2):\n",
    "    return bytes(i^j for i, j in zip(arr1, arr2))"
   ]
  },
  {
   "cell_type": "code",
   "execution_count": 55,
   "metadata": {},
   "outputs": [],
   "source": [
    "def mixOnecolumn(col):\n",
    "    t = col[0] ^ col[1] ^ col[2] ^ col[3]\n",
    "    tmp = col[0]\n",
    "    col[0] ^= t ^ xtime(col[0] ^ col[1])\n",
    "    col[1] ^= t ^ xtime(col[1] ^ col[2])\n",
    "    col[2] ^= t ^ xtime(col[2] ^ col[3])\n",
    "    col[3] ^= t ^ xtime(col[3] ^ tmp)"
   ]
  },
  {
   "cell_type": "code",
   "execution_count": 106,
   "metadata": {},
   "outputs": [],
   "source": [
    "def initState(data):\n",
    "    s0 = list(data[0:4])\n",
    "    s1 = list(data[4:8])\n",
    "    s2 = list(data[8:12])\n",
    "    s3 = list(data[12:16])\n",
    "    return [s0,s1,s2,s3]"
   ]
  },
  {
   "cell_type": "code",
   "execution_count": 57,
   "metadata": {},
   "outputs": [],
   "source": [
    "def getBytesArr(arr):\n",
    "    btArr = [i for j in arr for i in j]\n",
    "    return bytes(btArr)"
   ]
  },
  {
   "cell_type": "code",
   "execution_count": 150,
   "metadata": {},
   "outputs": [],
   "source": [
    "def encrypt(data,key):\n",
    "    if len(data)!=16:\n",
    "        return 0\n",
    "    \n",
    "    nOfRounds = 0\n",
    "    keyLength = len(key)\n",
    "    if keyLength == 16:\n",
    "        nOfRounds = 10\n",
    "    if keyLength == 24:\n",
    "        nOfRounds = 12\n",
    "    if keyLength == 32:\n",
    "        nOfRounds = 14\n",
    "    \n",
    "    state = initState(data)\n",
    "    \n",
    "    expKey = keyExpansion(key,nOfRounds)\n",
    "    \n",
    "    addRoundKey(expKey[0], state)\n",
    "    \n",
    "    for i in range(1,nOfRounds):\n",
    "        subBytes(state)\n",
    "        shiftRows(state)\n",
    "        mixColumns(state)\n",
    "        addRoundKey(expKey[i], state)\n",
    "\n",
    "\n",
    "    subBytes(state)\n",
    "    shiftRows(state)\n",
    "    addRoundKey(expKey[-1], state)\n",
    "\n",
    "    return getBytesArr(state)"
   ]
  },
  {
   "cell_type": "code",
   "execution_count": 151,
   "metadata": {},
   "outputs": [],
   "source": [
    "def decrypt(cipherData,key):\n",
    "    if len(data)!=16:\n",
    "        return 0\n",
    "    \n",
    "    nOfRounds = 0\n",
    "    keyLength = len(key)\n",
    "    if keyLength == 16:\n",
    "        nOfRounds = 10\n",
    "    if keyLength == 24:\n",
    "        nOfRounds = 12\n",
    "    if keyLength == 32:\n",
    "        nOfRounds = 14\n",
    "    \n",
    "    state = initState(cipherData)\n",
    "    expKey = keyExpansion(key,nOfRounds)\n",
    "    addRoundKey(expKey[-1], state)\n",
    "    invShiftRows(state)\n",
    "    invSubBytes(state)\n",
    "    \n",
    "    for i in reversed(range(1,nOfRounds)):\n",
    "        addRoundKey(expKey[i], state)\n",
    "        invMixColumns(state)\n",
    "        invShiftRows(state)\n",
    "        invSubBytes(state)\n",
    "\n",
    "\n",
    "    addRoundKey(expKey[0], state)\n",
    "\n",
    "    return getBytesArr(state)"
   ]
  },
  {
   "cell_type": "code",
   "execution_count": 191,
   "metadata": {},
   "outputs": [],
   "source": [
    "data = b'\\x32\\x43\\xF6\\xA8\\x88\\x5A\\x30\\x8D\\x31\\x31\\x98\\xA2\\xE0\\x37\\x07\\x34'\n",
    "hey = b'\\x2B\\x7E\\x15\\x16\\x28\\xAE\\xD2\\xA6\\xAB\\xF7\\x15\\x88\\x09\\xCF\\x4F\\x3C'\n",
    "#key = [0x2b,0x7e,0x15,0x16,0x28,0xae,0xd2,0xa6,0xab,0xf7,0x15,0x88,0x09,0xcf,0x4f,0x3c]"
   ]
  },
  {
   "cell_type": "code",
   "execution_count": 230,
   "metadata": {},
   "outputs": [
    {
     "name": "stdout",
     "output_type": "stream",
     "text": [
      "Шифрование\n",
      "Текст 0x32 0x43 0xf6 0xa8 0x88 0x5a 0x30 0x8d 0x31 0x31 0x98 0xa2 0xe0 0x37 0x7 0x34\n",
      "Ключ 0x2b 0x7e 0x15 0x16 0x28 0xae 0xd2 0xa6 0xab 0xf7 0x15 0x88 0x9 0xcf 0x4f 0x3c\n",
      "Результат:  0x39 0x25 0x84 0x1d 0x2 0xdc 0x9 0xfb 0xdc 0x11 0x85 0x97 0x19 0x6a 0xb 0x32\n"
     ]
    }
   ],
   "source": [
    "print('Шифрование')\n",
    "print('Текст', \" \".join(hex(i) for i in data))\n",
    "print('Ключ', \" \".join(hex(i) for i in key))\n",
    "\n",
    "encrText = encrypt(data,key)\n",
    "\n",
    "print('Результат: ', \" \".join(hex(i) for i in encrText))"
   ]
  },
  {
   "cell_type": "code",
   "execution_count": 231,
   "metadata": {},
   "outputs": [
    {
     "name": "stdout",
     "output_type": "stream",
     "text": [
      "Расшифрование\n",
      "Исходный текст: 0x39 0x25 0x84 0x1d 0x2 0xdc 0x9 0xfb 0xdc 0x11 0x85 0x97 0x19 0x6a 0xb 0x32\n",
      "Результат:  0x32 0x43 0xf6 0xa8 0x88 0x5a 0x30 0x8d 0x31 0x31 0x98 0xa2 0xe0 0x37 0x7 0x34\n"
     ]
    }
   ],
   "source": [
    "print('Расшифрование')\n",
    "print('Исходный текст:',\" \".join(hex(i) for i in encrText))\n",
    "\n",
    "answ = decrypt(encrText,key)\n",
    "\n",
    "print('Результат: ', \" \".join(hex(i) for i in answ))"
   ]
  },
  {
   "cell_type": "code",
   "execution_count": null,
   "metadata": {},
   "outputs": [],
   "source": []
  }
 ],
 "metadata": {
  "kernelspec": {
   "display_name": "Python 3",
   "language": "python",
   "name": "python3"
  },
  "language_info": {
   "codemirror_mode": {
    "name": "ipython",
    "version": 3
   },
   "file_extension": ".py",
   "mimetype": "text/x-python",
   "name": "python",
   "nbconvert_exporter": "python",
   "pygments_lexer": "ipython3",
   "version": "3.8.10"
  }
 },
 "nbformat": 4,
 "nbformat_minor": 4
}
